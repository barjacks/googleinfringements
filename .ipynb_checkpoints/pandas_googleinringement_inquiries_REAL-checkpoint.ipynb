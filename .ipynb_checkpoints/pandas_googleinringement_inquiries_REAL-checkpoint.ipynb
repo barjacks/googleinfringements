{
 "cells": [
  {
   "cell_type": "code",
   "execution_count": 2,
   "metadata": {
    "collapsed": true
   },
   "outputs": [],
   "source": [
    "import pandas as pd\n",
    "import matplotlib.pyplot as plt\n",
    "%matplotlib inline"
   ]
  },
  {
   "cell_type": "markdown",
   "metadata": {},
   "source": [
    "# Template to Explore Google Removal Requests"
   ]
  },
  {
   "cell_type": "markdown",
   "metadata": {},
   "source": [
    "### Table of Contents\n",
    "###### 1. Setup\n",
    "###### 2. Most frequented Top Level Domains\n",
    "###### 3. Top copyright infringing Domains\n",
    "###### 4. Total requests, Removed, Not Removed, Pending\n",
    "###### 5. Which are the top .ch, .org & .edu copy right infringing sites?\n",
    "###### 6. Let user search for specific .ch domains in the data. "
   ]
  },
  {
   "cell_type": "markdown",
   "metadata": {},
   "source": [
    "## 1. Setup"
   ]
  },
  {
   "cell_type": "code",
   "execution_count": 3,
   "metadata": {
    "collapsed": false
   },
   "outputs": [],
   "source": [
    "df = pd.read_csv(\"CURRENTDATA/domains.csv\")"
   ]
  },
  {
   "cell_type": "code",
   "execution_count": 4,
   "metadata": {
    "collapsed": false
   },
   "outputs": [
    {
     "name": "stdout",
     "output_type": "stream",
     "text": [
      "<class 'pandas.core.frame.DataFrame'>\n",
      "RangeIndex: 111657904 entries, 0 to 111657903\n",
      "Data columns (total 6 columns):\n",
      "Request ID                          int64\n",
      "Domain                              object\n",
      "URLs removed                        int64\n",
      "URLs for which we took no action    int64\n",
      "URLs pending review                 int64\n",
      "From Abuser                         bool\n",
      "dtypes: bool(1), int64(4), object(1)\n",
      "memory usage: 4.3+ GB\n"
     ]
    }
   ],
   "source": [
    "df.info()"
   ]
  },
  {
   "cell_type": "code",
   "execution_count": 5,
   "metadata": {
    "collapsed": false
   },
   "outputs": [
    {
     "data": {
      "text/html": [
       "<div>\n",
       "<table border=\"1\" class=\"dataframe\">\n",
       "  <thead>\n",
       "    <tr style=\"text-align: right;\">\n",
       "      <th></th>\n",
       "      <th>Request ID</th>\n",
       "      <th>Domain</th>\n",
       "      <th>URLs removed</th>\n",
       "      <th>URLs for which we took no action</th>\n",
       "      <th>URLs pending review</th>\n",
       "      <th>From Abuser</th>\n",
       "    </tr>\n",
       "  </thead>\n",
       "  <tbody>\n",
       "    <tr>\n",
       "      <th>0</th>\n",
       "      <td>1704321</td>\n",
       "      <td>come.in</td>\n",
       "      <td>1</td>\n",
       "      <td>0</td>\n",
       "      <td>0</td>\n",
       "      <td>False</td>\n",
       "    </tr>\n",
       "    <tr>\n",
       "      <th>1</th>\n",
       "      <td>1704321</td>\n",
       "      <td>limetorrents.cc</td>\n",
       "      <td>1</td>\n",
       "      <td>0</td>\n",
       "      <td>0</td>\n",
       "      <td>False</td>\n",
       "    </tr>\n",
       "    <tr>\n",
       "      <th>2</th>\n",
       "      <td>1704321</td>\n",
       "      <td>limetorrents.com</td>\n",
       "      <td>1</td>\n",
       "      <td>0</td>\n",
       "      <td>0</td>\n",
       "      <td>False</td>\n",
       "    </tr>\n",
       "  </tbody>\n",
       "</table>\n",
       "</div>"
      ],
      "text/plain": [
       "   Request ID            Domain  URLs removed  \\\n",
       "0     1704321           come.in             1   \n",
       "1     1704321   limetorrents.cc             1   \n",
       "2     1704321  limetorrents.com             1   \n",
       "\n",
       "   URLs for which we took no action  URLs pending review From Abuser  \n",
       "0                                 0                    0       False  \n",
       "1                                 0                    0       False  \n",
       "2                                 0                    0       False  "
      ]
     },
     "execution_count": 5,
     "metadata": {},
     "output_type": "execute_result"
    }
   ],
   "source": [
    "df.head(3)"
   ]
  },
  {
   "cell_type": "markdown",
   "metadata": {},
   "source": [
    "## 2. Looking into the Most Frequently Mentioned Top Level Domains"
   ]
  },
  {
   "cell_type": "code",
   "execution_count": 6,
   "metadata": {
    "collapsed": false
   },
   "outputs": [
    {
     "data": {
      "text/plain": [
       "'come.in'"
      ]
     },
     "execution_count": 6,
     "metadata": {},
     "output_type": "execute_result"
    }
   ],
   "source": [
    "df['Domain'][0]"
   ]
  },
  {
   "cell_type": "code",
   "execution_count": 7,
   "metadata": {
    "collapsed": false
   },
   "outputs": [
    {
     "data": {
      "text/plain": [
       "str"
      ]
     },
     "execution_count": 7,
     "metadata": {},
     "output_type": "execute_result"
    }
   ],
   "source": [
    "type(df['Domain'][0])"
   ]
  },
  {
   "cell_type": "code",
   "execution_count": 8,
   "metadata": {
    "collapsed": false
   },
   "outputs": [],
   "source": [
    "test = df['Domain']"
   ]
  },
  {
   "cell_type": "code",
   "execution_count": 9,
   "metadata": {
    "collapsed": false
   },
   "outputs": [
    {
     "data": {
      "text/html": [
       "<div>\n",
       "<table border=\"1\" class=\"dataframe\">\n",
       "  <thead>\n",
       "    <tr style=\"text-align: right;\">\n",
       "      <th></th>\n",
       "      <th>Request ID</th>\n",
       "      <th>Domain</th>\n",
       "      <th>URLs removed</th>\n",
       "      <th>URLs for which we took no action</th>\n",
       "      <th>URLs pending review</th>\n",
       "      <th>From Abuser</th>\n",
       "    </tr>\n",
       "  </thead>\n",
       "  <tbody>\n",
       "    <tr>\n",
       "      <th>0</th>\n",
       "      <td>1704321</td>\n",
       "      <td>come.in</td>\n",
       "      <td>1</td>\n",
       "      <td>0</td>\n",
       "      <td>0</td>\n",
       "      <td>False</td>\n",
       "    </tr>\n",
       "    <tr>\n",
       "      <th>1</th>\n",
       "      <td>1704321</td>\n",
       "      <td>limetorrents.cc</td>\n",
       "      <td>1</td>\n",
       "      <td>0</td>\n",
       "      <td>0</td>\n",
       "      <td>False</td>\n",
       "    </tr>\n",
       "    <tr>\n",
       "      <th>2</th>\n",
       "      <td>1704321</td>\n",
       "      <td>limetorrents.com</td>\n",
       "      <td>1</td>\n",
       "      <td>0</td>\n",
       "      <td>0</td>\n",
       "      <td>False</td>\n",
       "    </tr>\n",
       "    <tr>\n",
       "      <th>3</th>\n",
       "      <td>1704321</td>\n",
       "      <td>limetorrents.net</td>\n",
       "      <td>1</td>\n",
       "      <td>0</td>\n",
       "      <td>0</td>\n",
       "      <td>False</td>\n",
       "    </tr>\n",
       "    <tr>\n",
       "      <th>4</th>\n",
       "      <td>1704321</td>\n",
       "      <td>rbt.xyz</td>\n",
       "      <td>1</td>\n",
       "      <td>0</td>\n",
       "      <td>0</td>\n",
       "      <td>False</td>\n",
       "    </tr>\n",
       "  </tbody>\n",
       "</table>\n",
       "</div>"
      ],
      "text/plain": [
       "   Request ID            Domain  URLs removed  \\\n",
       "0     1704321           come.in             1   \n",
       "1     1704321   limetorrents.cc             1   \n",
       "2     1704321  limetorrents.com             1   \n",
       "3     1704321  limetorrents.net             1   \n",
       "4     1704321           rbt.xyz             1   \n",
       "\n",
       "   URLs for which we took no action  URLs pending review From Abuser  \n",
       "0                                 0                    0       False  \n",
       "1                                 0                    0       False  \n",
       "2                                 0                    0       False  \n",
       "3                                 0                    0       False  \n",
       "4                                 0                    0       False  "
      ]
     },
     "execution_count": 9,
     "metadata": {},
     "output_type": "execute_result"
    }
   ],
   "source": [
    "df.head()"
   ]
  },
  {
   "cell_type": "code",
   "execution_count": 10,
   "metadata": {
    "collapsed": false
   },
   "outputs": [],
   "source": [
    "import re\n",
    "def toplevel_domains(xx):\n",
    "#Call the first element of the list works fine in the Test version. But as soon as you \n",
    "#you work with the large data set it creates error messages. To work aroung them I \n",
    "#transfered the func output into a tuple. Somewhere along the line there is a corrupt \n",
    "#cell. How can I find it?\n",
    "    return tuple(re.findall('\\..+$', xx)) #[0]\n",
    "\n",
    "df['Top_Level'] = test.apply(toplevel_domains)"
   ]
  },
  {
   "cell_type": "code",
   "execution_count": 11,
   "metadata": {
    "collapsed": false
   },
   "outputs": [
    {
     "data": {
      "text/html": [
       "<div>\n",
       "<table border=\"1\" class=\"dataframe\">\n",
       "  <thead>\n",
       "    <tr style=\"text-align: right;\">\n",
       "      <th></th>\n",
       "      <th>Request ID</th>\n",
       "      <th>Domain</th>\n",
       "      <th>URLs removed</th>\n",
       "      <th>URLs for which we took no action</th>\n",
       "      <th>URLs pending review</th>\n",
       "      <th>From Abuser</th>\n",
       "      <th>Top_Level</th>\n",
       "    </tr>\n",
       "  </thead>\n",
       "  <tbody>\n",
       "    <tr>\n",
       "      <th>0</th>\n",
       "      <td>1704321</td>\n",
       "      <td>come.in</td>\n",
       "      <td>1</td>\n",
       "      <td>0</td>\n",
       "      <td>0</td>\n",
       "      <td>False</td>\n",
       "      <td>(.in,)</td>\n",
       "    </tr>\n",
       "    <tr>\n",
       "      <th>1</th>\n",
       "      <td>1704321</td>\n",
       "      <td>limetorrents.cc</td>\n",
       "      <td>1</td>\n",
       "      <td>0</td>\n",
       "      <td>0</td>\n",
       "      <td>False</td>\n",
       "      <td>(.cc,)</td>\n",
       "    </tr>\n",
       "    <tr>\n",
       "      <th>2</th>\n",
       "      <td>1704321</td>\n",
       "      <td>limetorrents.com</td>\n",
       "      <td>1</td>\n",
       "      <td>0</td>\n",
       "      <td>0</td>\n",
       "      <td>False</td>\n",
       "      <td>(.com,)</td>\n",
       "    </tr>\n",
       "    <tr>\n",
       "      <th>3</th>\n",
       "      <td>1704321</td>\n",
       "      <td>limetorrents.net</td>\n",
       "      <td>1</td>\n",
       "      <td>0</td>\n",
       "      <td>0</td>\n",
       "      <td>False</td>\n",
       "      <td>(.net,)</td>\n",
       "    </tr>\n",
       "    <tr>\n",
       "      <th>4</th>\n",
       "      <td>1704321</td>\n",
       "      <td>rbt.xyz</td>\n",
       "      <td>1</td>\n",
       "      <td>0</td>\n",
       "      <td>0</td>\n",
       "      <td>False</td>\n",
       "      <td>(.xyz,)</td>\n",
       "    </tr>\n",
       "  </tbody>\n",
       "</table>\n",
       "</div>"
      ],
      "text/plain": [
       "   Request ID            Domain  URLs removed  \\\n",
       "0     1704321           come.in             1   \n",
       "1     1704321   limetorrents.cc             1   \n",
       "2     1704321  limetorrents.com             1   \n",
       "3     1704321  limetorrents.net             1   \n",
       "4     1704321           rbt.xyz             1   \n",
       "\n",
       "   URLs for which we took no action  URLs pending review From Abuser Top_Level  \n",
       "0                                 0                    0       False    (.in,)  \n",
       "1                                 0                    0       False    (.cc,)  \n",
       "2                                 0                    0       False   (.com,)  \n",
       "3                                 0                    0       False   (.net,)  \n",
       "4                                 0                    0       False   (.xyz,)  "
      ]
     },
     "execution_count": 11,
     "metadata": {},
     "output_type": "execute_result"
    }
   ],
   "source": [
    "df.head()"
   ]
  },
  {
   "cell_type": "code",
   "execution_count": 12,
   "metadata": {
    "collapsed": false
   },
   "outputs": [
    {
     "data": {
      "text/plain": [
       "(.today,)         23822\n",
       "(.eu.org,)        24680\n",
       "(.date,)          25211\n",
       "(.co.ke,)         25421\n",
       "(.kr,)            26134\n",
       "(.cm,)            26150\n",
       "(.reviews,)       26258\n",
       "(.co.il,)         27443\n",
       "(.jp,)            27567\n",
       "(.network,)       27835\n",
       "(.vg,)            27935\n",
       "(.host,)          28147\n",
       "(.cash,)          28153\n",
       "(.agency,)        28803\n",
       "(.tt,)            31229\n",
       "(.ae,)            31938\n",
       "(.com.pl,)        32460\n",
       "(.by,)            32467\n",
       "(.cx,)            32776\n",
       "(.press,)         32877\n",
       "(.pt,)            34552\n",
       "(.guru,)          34660\n",
       "(.hk,)            35840\n",
       "(.audio,)         36088\n",
       "(.pub,)           36400\n",
       "(.ac,)            37162\n",
       "(.ec,)            39007\n",
       "(.world,)         39344\n",
       "(.st,)            40812\n",
       "(.gy,)            41111\n",
       "                 ...   \n",
       "(.gq,)           515994\n",
       "(.club,)         552131\n",
       "(.ml,)           596064\n",
       "(.tk,)           645817\n",
       "(.casa,)         658809\n",
       "(.ws,)           660149\n",
       "(.click,)        729931\n",
       "(.se,)           784418\n",
       "(.website,)      823579\n",
       "(.pl,)           869285\n",
       "(.tv,)           916689\n",
       "(.nl,)           965734\n",
       "(.us,)          1082753\n",
       "(.xyz,)         1200171\n",
       "(.in,)          1227117\n",
       "(.cc,)          1230079\n",
       "(.biz,)         1304119\n",
       "(.work,)        1324729\n",
       "(.pw,)          1369630\n",
       "(.space,)       1486414\n",
       "(.co,)          1567771\n",
       "(.to,)          1946254\n",
       "(.link,)        2155413\n",
       "(.ru,)          2227516\n",
       "(.info,)        2629442\n",
       "(.me,)          2831060\n",
       "(.eu,)          4047910\n",
       "(.org,)         8223783\n",
       "(.net,)        12839830\n",
       "(.com,)        38237097\n",
       "Name: Top_Level, dtype: int64"
      ]
     },
     "execution_count": 12,
     "metadata": {},
     "output_type": "execute_result"
    }
   ],
   "source": [
    "domain_frequency = df[\"Top_Level\"].value_counts().sort_values(ascending=True).tail(150)\n",
    "#top_level = df[\"Top_Level\"].value_counts()\n",
    "#top_level.sort_values(ascending=True).tail(10).plot(kind='barh')"
   ]
  },
  {
   "cell_type": "code",
   "execution_count": 25,
   "metadata": {
    "collapsed": true
   },
   "outputs": [],
   "source": [
    "domain_frequency = df.groupby(\"Domain\")[\"Top_Level\"].value_counts().sort_values(ascending=True)"
   ]
  },
  {
   "cell_type": "code",
   "execution_count": 26,
   "metadata": {
    "collapsed": true
   },
   "outputs": [],
   "source": [
    "pd.DataFrame(domain_frequency).to_csv('domain_frequency.csv', index=False)"
   ]
  },
  {
   "cell_type": "code",
   "execution_count": 13,
   "metadata": {
    "collapsed": false
   },
   "outputs": [
    {
     "data": {
      "image/png": "[encoded data removed]",
      "text/plain": [
       "<matplotlib.figure.Figure at 0x71b2c9128>"
      ]
     },
     "metadata": {},
     "output_type": "display_data"
    }
   ],
   "source": [
    "plt.style.use('ggplot')\n",
    "df[\"Top_Level\"].value_counts().sort_values(ascending=True).tail(20).plot(kind='barh')\n",
    "plt.savefig(\"top_level_domains.png\")"
   ]
  },
  {
   "cell_type": "markdown",
   "metadata": {},
   "source": [
    "## 3. Top copyright infringing Domains"
   ]
  },
  {
   "cell_type": "code",
   "execution_count": 14,
   "metadata": {
    "collapsed": false
   },
   "outputs": [
    {
     "data": {
      "image/png": "[encoded data removed]",
      "text/plain": [
       "<matplotlib.figure.Figure at 0x2f16f2ba8>"
      ]
     },
     "metadata": {},
     "output_type": "display_data"
    }
   ],
   "source": [
    "df[\"Domain\"].value_counts().sort_values(ascending=True).tail(10).plot(kind='barh')\n",
    "plt.savefig(\"top_domains.png\")"
   ]
  },
  {
   "cell_type": "markdown",
   "metadata": {},
   "source": [
    "## 4. Total, Removed, Not Removed, Pending"
   ]
  },
  {
   "cell_type": "code",
   "execution_count": 15,
   "metadata": {
    "collapsed": false
   },
   "outputs": [
    {
     "data": {
      "text/plain": [
       "111657904"
      ]
     },
     "execution_count": 15,
     "metadata": {},
     "output_type": "execute_result"
    }
   ],
   "source": [
    "df['Request ID'].count()"
   ]
  },
  {
   "cell_type": "code",
   "execution_count": 16,
   "metadata": {
    "collapsed": false
   },
   "outputs": [
    {
     "data": {
      "text/plain": [
       "1535912645"
      ]
     },
     "execution_count": 16,
     "metadata": {},
     "output_type": "execute_result"
    }
   ],
   "source": [
    "df['URLs removed'].sum()"
   ]
  },
  {
   "cell_type": "code",
   "execution_count": 17,
   "metadata": {
    "collapsed": false
   },
   "outputs": [
    {
     "data": {
      "text/plain": [
       "151726573"
      ]
     },
     "execution_count": 17,
     "metadata": {},
     "output_type": "execute_result"
    }
   ],
   "source": [
    "df['URLs for which we took no action'].sum()"
   ]
  },
  {
   "cell_type": "code",
   "execution_count": 18,
   "metadata": {
    "collapsed": false
   },
   "outputs": [
    {
     "data": {
      "text/plain": [
       "320678"
      ]
     },
     "execution_count": 18,
     "metadata": {},
     "output_type": "execute_result"
    }
   ],
   "source": [
    "df['URLs pending review'].sum()"
   ]
  },
  {
   "cell_type": "markdown",
   "metadata": {},
   "source": [
    "## 5. .ch, .org & .edu"
   ]
  },
  {
   "cell_type": "code",
   "execution_count": 19,
   "metadata": {
    "collapsed": false
   },
   "outputs": [],
   "source": [
    "#com = df[df['Top_Level'] == '.com']"
   ]
  },
  {
   "cell_type": "code",
   "execution_count": 20,
   "metadata": {
    "collapsed": true
   },
   "outputs": [],
   "source": [
    "#pd.DataFrame(com).to_csv('com.csv', index=False)"
   ]
  },
  {
   "cell_type": "code",
   "execution_count": 21,
   "metadata": {
    "collapsed": false
   },
   "outputs": [
    {
     "data": {
      "text/html": [
       "<div>\n",
       "<table border=\"1\" class=\"dataframe\">\n",
       "  <thead>\n",
       "    <tr style=\"text-align: right;\">\n",
       "      <th></th>\n",
       "      <th>Request ID</th>\n",
       "      <th>Domain</th>\n",
       "      <th>URLs removed</th>\n",
       "      <th>URLs for which we took no action</th>\n",
       "      <th>URLs pending review</th>\n",
       "      <th>From Abuser</th>\n",
       "      <th>Top_Level</th>\n",
       "    </tr>\n",
       "  </thead>\n",
       "  <tbody>\n",
       "  </tbody>\n",
       "</table>\n",
       "</div>"
      ],
      "text/plain": [
       "Empty DataFrame\n",
       "Columns: [Request ID, Domain, URLs removed, URLs for which we took no action, URLs pending review, From Abuser, Top_Level]\n",
       "Index: []"
      ]
     },
     "execution_count": 21,
     "metadata": {},
     "output_type": "execute_result"
    }
   ],
   "source": [
    "df[df['Top_Level'] == '(.ch,)']\n",
    "#pd.DataFrame(ch).to_csv('ch.csv', index=False)\n",
    "#org = df[df['Top_Level'] == '(.org,)']\n",
    "#edu = df[df['Top_Level'] == '(.edu,)']"
   ]
  },
  {
   "cell_type": "code",
   "execution_count": null,
   "metadata": {
    "collapsed": true
   },
   "outputs": [],
   "source": []
  },
  {
   "cell_type": "code",
   "execution_count": 22,
   "metadata": {
    "collapsed": false
   },
   "outputs": [
    {
     "ename": "NameError",
     "evalue": "name 'ch' is not defined",
     "output_type": "error",
     "traceback": [
      "\u001b[0;31m---------------------------------------------------------------------------\u001b[0m",
      "\u001b[0;31mNameError\u001b[0m                                 Traceback (most recent call last)",
      "\u001b[0;32m<ipython-input-22-71dde5b096e7>\u001b[0m in \u001b[0;36m<module>\u001b[0;34m()\u001b[0m\n\u001b[0;32m----> 1\u001b[0;31m \u001b[0mch\u001b[0m\u001b[0;34m[\u001b[0m\u001b[0;34m'Domain'\u001b[0m\u001b[0;34m]\u001b[0m\u001b[0;34m.\u001b[0m\u001b[0mvalue_counts\u001b[0m\u001b[0;34m(\u001b[0m\u001b[0;34m)\u001b[0m\u001b[0;34m.\u001b[0m\u001b[0msort_values\u001b[0m\u001b[0;34m(\u001b[0m\u001b[0mascending\u001b[0m\u001b[0;34m=\u001b[0m\u001b[0;32mTrue\u001b[0m\u001b[0;34m)\u001b[0m\u001b[0;34m\u001b[0m\u001b[0m\n\u001b[0m",
      "\u001b[0;31mNameError\u001b[0m: name 'ch' is not defined"
     ]
    }
   ],
   "source": [
    "ch['Domain'].value_counts().sort_values(ascending=True)"
   ]
  },
  {
   "cell_type": "code",
   "execution_count": null,
   "metadata": {
    "collapsed": true
   },
   "outputs": [],
   "source": []
  },
  {
   "cell_type": "code",
   "execution_count": null,
   "metadata": {
    "collapsed": true
   },
   "outputs": [],
   "source": []
  },
  {
   "cell_type": "code",
   "execution_count": null,
   "metadata": {
    "collapsed": true
   },
   "outputs": [],
   "source": []
  },
  {
   "cell_type": "code",
   "execution_count": null,
   "metadata": {
    "collapsed": true
   },
   "outputs": [],
   "source": []
  },
  {
   "cell_type": "code",
   "execution_count": null,
   "metadata": {
    "collapsed": true
   },
   "outputs": [],
   "source": []
  }
 ],
 "metadata": {
  "kernelspec": {
   "display_name": "Python 3",
   "language": "python",
   "name": "python3"
  },
  "language_info": {
   "codemirror_mode": {
    "name": "ipython",
    "version": 3
   },
   "file_extension": ".py",
   "mimetype": "text/x-python",
   "name": "python",
   "nbconvert_exporter": "python",
   "pygments_lexer": "ipython3",
   "version": "3.5.1"
  }
 },
 "nbformat": 4,
 "nbformat_minor": 0
}
