{
 "cells": [
  {
   "cell_type": "markdown",
   "metadata": {},
   "source": [
    "#Exploring the Requests by Copyright Owners for Google to Remove Search Results\n",
    "\n",
    "Google regularly receives requests from copyright owners and reporting organizations to remove search results linking to material that allegedly infringes copyrights. This is an exploration of that data. The data is updated daily by Google. This is based on data from 1 June 2016. The whole data set up to the current date can be downloaded [hier](https://www.google.com/transparencyreport/removals/copyright/data/)."
   ]
  },
  {
   "cell_type": "code",
   "execution_count": 2,
   "metadata": {
    "collapsed": true
   },
   "outputs": [],
   "source": [
    "import pg8000\n",
    "conn = pg8000.connect(database=\"googleinfringementdb\")"
   ]
  },
  {
   "cell_type": "code",
   "execution_count": null,
   "metadata": {
    "collapsed": true
   },
   "outputs": [],
   "source": [
    "conn.rollback()"
   ]
  },
  {
   "cell_type": "markdown",
   "metadata": {},
   "source": [
    "Let us first take a look at the amount of links Google has removed as a result of removal requests."
   ]
  },
  {
   "cell_type": "code",
   "execution_count": 10,
   "metadata": {
    "collapsed": false
   },
   "outputs": [
    {
     "name": "stdout",
     "output_type": "stream",
     "text": [
      "1479603203\n"
     ]
    }
   ],
   "source": [
    "cursor = conn.cursor()\n",
    "statement = \"SELECT SUM(urlsremoved) FROM domains;\"\n",
    "cursor.execute(statement)\n",
    "for row in cursor:\n",
    "    print(row[0])"
   ]
  },
  {
   "cell_type": "markdown",
   "metadata": {},
   "source": [
    "That is **1,5 billion** links Google has removed since 2011. That is approximately **273 Million** a year, "
   ]
  },
  {
   "cell_type": "code",
   "execution_count": 34,
   "metadata": {
    "collapsed": false
   },
   "outputs": [
    {
     "name": "stdout",
     "output_type": "stream",
     "text": [
      "That is 1479603203 links Google has removed since 2011. That is 269018764 a year 737038 a day 512 a minute 9 a second\n"
     ]
    }
   ],
   "source": [
    "statement = 1479603203\n",
    "RemovalsPerYear = round(int(statement) / 5.5)\n",
    "RemovalsPerDay = round(int(RemovalsPerYear) / 365)\n",
    "RemovalsPerHour = round(int(RemovalsPerDay) / 24)\n",
    "RemovalsPerMinute = round(int(RemovalsPerHour) / 60)\n",
    "RemovalsPerSecond = round(int(RemovalsPerMinute) / 60)\n",
    "print(\"That is\", statement, \"links Google has removed since 2011. That is\", RemovalsPerYear, \"a year\", RemovalsPerDay, \"a day\", RemovalsPerMinute, \"a minute\", RemovalsPerSecond, \"a second\")"
   ]
  },
  {
   "cell_type": "markdown",
   "metadata": {},
   "source": [
    "So every second Google removes **9 URLs** that infringe copyright laws."
   ]
  },
  {
   "cell_type": "markdown",
   "metadata": {},
   "source": [
    "##Domain URLs with most removal requests"
   ]
  },
  {
   "cell_type": "code",
   "execution_count": 9,
   "metadata": {
    "collapsed": false
   },
   "outputs": [
    {
     "name": "stdout",
     "output_type": "stream",
     "text": [
      "uploaded.net 362544\n",
      "zippyshare.com 324107\n",
      "4shared.com 310615\n",
      "torrentz.eu 297658\n",
      "torrenthound.com 289923\n",
      "rapidgator.net 286986\n",
      "bitsnoop.com 234842\n",
      "filestube.com 225449\n",
      "torrentdownloads.me 214673\n",
      "thepiratebay.se 213869\n"
     ]
    }
   ],
   "source": [
    "cursor = conn.cursor()\n",
    "statement = \"SELECT domain, COUNT(*), COUNT(*) FROM domains GROUP BY domain ORDER BY count DESC LIMIT 10;\"\n",
    "cursor.execute(statement)\n",
    "for row in cursor:\n",
    "    print(row[0], row[1])"
   ]
  },
  {
   "cell_type": "markdown",
   "metadata": {},
   "source": [
    "##uploaded.net is a Swiss Domain\n",
    "The Domain [Uploaded.net](http://uploaded.net/) belongs to a the Swiss company [Cyando AG](http://cyando.ch/de). They are proad of the fact that they donate monthly amounts to charity. How does that fit in with the fact that they seem to be responsible for 362'544 copyright infringements? "
   ]
  },
  {
   "cell_type": "markdown",
   "metadata": {},
   "source": [
    "##Sample of the copyright infringements of Uploaded.net."
   ]
  },
  {
   "cell_type": "code",
   "execution_count": 10,
   "metadata": {
    "collapsed": false
   },
   "outputs": [
    {
     "name": "stdout",
     "output_type": "stream",
     "text": [
      "uploaded.net http://www.chillingeffects.org/notice.cgi?sID=1348067\n",
      "uploaded.net http://www.chillingeffects.org/notices/10521749\n",
      "uploaded.net http://www.chillingeffects.org/notice.cgi?sID=2116054\n",
      "uploaded.net http://www.chillingeffects.org/notice.cgi?sID=1612786\n",
      "uploaded.net http://lumendatabase.org/notices/11931017\n",
      "uploaded.net http://lumendatabase.org/notices/11677485\n",
      "uploaded.net http://lumendatabase.org/notices/11610286\n",
      "uploaded.net http://lumendatabase.org/notices/11842782\n",
      "uploaded.net http://www.chillingeffects.org/notice.cgi?sID=1707395\n",
      "uploaded.net http://www.chillingeffects.org/notices/11354978\n"
     ]
    }
   ],
   "source": [
    "cursor = conn.cursor()\n",
    "statement = \"SELECT domains.domain, requests.lumen_url FROM domains JOIN requests ON domains.requestid = requests.request_id WHERE domain = 'uploaded.net' LIMIT 10;\"\n",
    "cursor.execute(statement)\n",
    "for row in cursor:\n",
    "    print(row[0], row[1])"
   ]
  },
  {
   "cell_type": "markdown",
   "metadata": {},
   "source": [
    "##The 3 most recent removal requests concerning Uploaded.net"
   ]
  },
  {
   "cell_type": "code",
   "execution_count": 7,
   "metadata": {
    "collapsed": false
   },
   "outputs": [
    {
     "name": "stdout",
     "output_type": "stream",
     "text": [
      "uploaded.net 2016-05-31 08:39:23 https://lumendatabase.org/notices/12359154\n",
      "uploaded.net 2016-05-31 08:32:40 https://lumendatabase.org/notices/12359754\n",
      "uploaded.net 2016-05-31 08:30:07 https://lumendatabase.org/notices/12359056\n"
     ]
    }
   ],
   "source": [
    "cursor = conn.cursor()\n",
    "statement = \"SELECT domains.domain, requests.date, requests.lumen_url FROM domains JOIN requests ON domains.requestID = requests.request_ID WHERE domains.domain = 'uploaded.net' ORDER BY date DESC LIMIT 3;\"\n",
    "cursor.execute(statement)\n",
    "for row in cursor:\n",
    "    print(row[0], row[1], row[2])"
   ]
  },
  {
   "cell_type": "markdown",
   "metadata": {},
   "source": [
    "##The first 3 removal requests concerning Uploaded.net"
   ]
  },
  {
   "cell_type": "code",
   "execution_count": 8,
   "metadata": {
    "collapsed": false
   },
   "outputs": [
    {
     "name": "stdout",
     "output_type": "stream",
     "text": [
      "uploaded.net 2012-08-14 12:21:30 http://www.chillingeffects.org/notice.cgi?sID=509844\n",
      "uploaded.net 2012-08-14 14:05:55 http://www.chillingeffects.org/notice.cgi?sID=509927\n",
      "uploaded.net 2012-08-14 14:14:31 http://www.chillingeffects.org/notice.cgi?sID=509915\n"
     ]
    }
   ],
   "source": [
    "cursor = conn.cursor()\n",
    "statement = \"SELECT domains.domain, requests.date, requests.lumen_url FROM domains JOIN requests ON domains.requestID = requests.request_ID WHERE domains.domain = 'uploaded.net' ORDER BY date LIMIT 3;\"\n",
    "cursor.execute(statement)\n",
    "for row in cursor:\n",
    "    print(row[0], row[1], row[2])"
   ]
  },
  {
   "cell_type": "markdown",
   "metadata": {},
   "source": [
    "-> Check the no_action File, needs filterd on Request ID and URLs."
   ]
  },
  {
   "cell_type": "markdown",
   "metadata": {},
   "source": [
    "#Other Swiss sites in the data.\n"
   ]
  },
  {
   "cell_type": "code",
   "execution_count": 8,
   "metadata": {
    "collapsed": false
   },
   "outputs": [
    {
     "name": "stdout",
     "output_type": "stream",
     "text": [
      "20min.ch http://www.chillingeffects.org/notice.cgi?sID=706173\n",
      "20min.ch http://www.chillingeffects.org/notice.cgi?sID=1433303\n",
      "20min.ch http://www.chillingeffects.org/notice.cgi?sID=1421135\n",
      "20min.ch http://www.chillingeffects.org/notice.cgi?sID=1419080\n",
      "20min.ch http://www.chillingeffects.org/notices/11022862\n",
      "20min.ch http://lumendatabase.org/notices/12086522\n"
     ]
    }
   ],
   "source": [
    "cursor = conn.cursor()\n",
    "statement = \"SELECT domains.domain, requests.lumen_url FROM domains JOIN requests ON domains.requestid = requests.request_id WHERE domain = '20min.ch';\"\n",
    "cursor.execute(statement)\n",
    "for row in cursor:\n",
    "    print(row[0], row[1])\n",
    "\n"
   ]
  },
  {
   "cell_type": "code",
   "execution_count": null,
   "metadata": {
    "collapsed": true
   },
   "outputs": [],
   "source": []
  },
  {
   "cell_type": "code",
   "execution_count": null,
   "metadata": {
    "collapsed": true
   },
   "outputs": [],
   "source": []
  }
 ],
 "metadata": {
  "kernelspec": {
   "display_name": "Python 3",
   "language": "python",
   "name": "python3"
  },
  "language_info": {
   "codemirror_mode": {
    "name": "ipython",
    "version": 3
   },
   "file_extension": ".py",
   "mimetype": "text/x-python",
   "name": "python",
   "nbconvert_exporter": "python",
   "pygments_lexer": "ipython3",
   "version": "3.5.1"
  }
 },
 "nbformat": 4,
 "nbformat_minor": 0
}
