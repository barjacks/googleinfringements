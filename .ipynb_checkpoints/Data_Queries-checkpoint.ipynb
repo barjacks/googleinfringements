{
 "cells": [
  {
   "cell_type": "markdown",
   "metadata": {},
   "source": [
    "#Exploring the Requests by Copyright Owners for Google to Remove Search Results\n",
    "\n",
    "Google regularly receives requests from copyright owners and reporting organizations to remove search results linking to material that allegedly infringe copyrights. This is an exploration of that data. The data is updated daily by Google. This inquiry is based on data from 1 June 2016. The whole data set up to the current date can be downloaded [hier](https://www.google.com/transparencyreport/removals/copyright/data/)."
   ]
  },
  {
   "cell_type": "code",
   "execution_count": 22,
   "metadata": {
    "collapsed": true
   },
   "outputs": [],
   "source": [
    "import pg8000\n",
    "conn = pg8000.connect(database=\"googleinfringementdb\")"
   ]
  },
  {
   "cell_type": "code",
   "execution_count": 23,
   "metadata": {
    "collapsed": true
   },
   "outputs": [],
   "source": [
    "conn.rollback()"
   ]
  },
  {
   "cell_type": "markdown",
   "metadata": {},
   "source": [
    "**TABLE OF CONTENTS**\n",
    "##1. First Steps\n",
    "##2. Pendung Requests\n",
    "##3. Denied Requests"
   ]
  },
  {
   "cell_type": "markdown",
   "metadata": {},
   "source": [
    "##1. First steps"
   ]
  },
  {
   "cell_type": "markdown",
   "metadata": {},
   "source": [
    "Let us first take a look at the amount of links Google has removed as a result of removal requests."
   ]
  },
  {
   "cell_type": "code",
   "execution_count": 24,
   "metadata": {
    "collapsed": false
   },
   "outputs": [
    {
     "name": "stdout",
     "output_type": "stream",
     "text": [
      "1479603203\n"
     ]
    }
   ],
   "source": [
    "cursor = conn.cursor()\n",
    "statement = \"SELECT SUM(urlsremoved) FROM domains;\"\n",
    "cursor.execute(statement)\n",
    "for row in cursor:\n",
    "    print(row[0])"
   ]
  },
  {
   "cell_type": "code",
   "execution_count": 25,
   "metadata": {
    "collapsed": false
   },
   "outputs": [
    {
     "name": "stdout",
     "output_type": "stream",
     "text": [
      "That is 1479603203 links Google has removed since 2011. That is 269018764 a year 737038 a day 512 a minute 9 a second\n"
     ]
    }
   ],
   "source": [
    "statement = 1479603203\n",
    "RemovalsPerYear = round(int(statement) / 5.5)\n",
    "RemovalsPerDay = round(int(RemovalsPerYear) / 365)\n",
    "RemovalsPerHour = round(int(RemovalsPerDay) / 24)\n",
    "RemovalsPerMinute = round(int(RemovalsPerHour) / 60)\n",
    "RemovalsPerSecond = round(int(RemovalsPerMinute) / 60)\n",
    "print(\"That is\", statement, \"links Google has removed since 2011. That is\", RemovalsPerYear, \"a year\", RemovalsPerDay, \"a day\", RemovalsPerMinute, \"a minute\", RemovalsPerSecond, \"a second\")"
   ]
  },
  {
   "cell_type": "markdown",
   "metadata": {},
   "source": [
    "And how many links didn't Google remove?"
   ]
  },
  {
   "cell_type": "code",
   "execution_count": 26,
   "metadata": {
    "collapsed": false
   },
   "outputs": [
    {
     "name": "stdout",
     "output_type": "stream",
     "text": [
      "145620403\n"
     ]
    }
   ],
   "source": [
    "cursor = conn.cursor()\n",
    "statement = \"SELECT SUM(urlsnoaction) FROM domains;\"\n",
    "cursor.execute(statement)\n",
    "for row in cursor:\n",
    "    print(row[0])"
   ]
  },
  {
   "cell_type": "markdown",
   "metadata": {},
   "source": [
    "How many requests are still pending? As of 1 June that is, in the mean time Google has reviewed many of these requests. But also received many more."
   ]
  },
  {
   "cell_type": "code",
   "execution_count": 27,
   "metadata": {
    "collapsed": false
   },
   "outputs": [
    {
     "name": "stdout",
     "output_type": "stream",
     "text": [
      "80711\n"
     ]
    }
   ],
   "source": [
    "cursor = conn.cursor()\n",
    "statement = \"SELECT SUM(urls_pending_review) FROM requests;\"\n",
    "cursor.execute(statement)\n",
    "for row in cursor:\n",
    "    print(row[0])"
   ]
  },
  {
   "cell_type": "code",
   "execution_count": 28,
   "metadata": {
    "collapsed": false
   },
   "outputs": [
    {
     "name": "stdout",
     "output_type": "stream",
     "text": [
      "91 0.004965900795057077\n"
     ]
    }
   ],
   "source": [
    "removed = 1479603203\n",
    "not_removed = 145620403\n",
    "pending = 80711\n",
    "percentage_removed = 1479603203 / (145620403 + 1479603203 + 80711) * 100\n",
    "percentage_pending = 80711 / (145620403 + 1479603203 + 80711) * 100\n",
    "print(round(percentage_removed,), percentage_pending)"
   ]
  },
  {
   "cell_type": "markdown",
   "metadata": {},
   "source": [
    "So to summarise. Since 2011 Google has removed **1,5 billion** links, meaning the search engine removes approximately  **9 links every second of the day**. In **91% of cases** Google removed the links. And only 0.005% of requests are still pending."
   ]
  },
  {
   "cell_type": "markdown",
   "metadata": {},
   "source": [
    "##2. Pending requests"
   ]
  },
  {
   "cell_type": "markdown",
   "metadata": {},
   "source": [
    "Let us take a closer look at the pending requests. The small number of pending requests suggests Google is pretty much up date."
   ]
  },
  {
   "cell_type": "code",
   "execution_count": 29,
   "metadata": {
    "collapsed": false
   },
   "outputs": [
    {
     "name": "stdout",
     "output_type": "stream",
     "text": [
      "33 2013-05-30 05:16:05\n",
      "3 2013-05-30 05:35:03\n",
      "3 2013-10-29 07:48:03\n",
      "2 2014-06-10 13:43:47\n",
      "30 2014-06-10 14:25:54\n",
      "6 2014-06-10 14:26:58\n",
      "4 2014-06-10 14:51:06\n",
      "3 2014-06-10 14:51:45\n",
      "8 2014-06-10 15:32:37\n",
      "4 2014-06-10 15:38:54\n"
     ]
    }
   ],
   "source": [
    "cursor = conn.cursor()\n",
    "statement = \"SELECT urls_pending_review, date FROM requests WHERE urls_pending_review > '1' ORDER BY date LIMIT 10;\"\n",
    "cursor.execute(statement)\n",
    "for row in cursor:\n",
    "    print(row[0], row[1])"
   ]
  },
  {
   "cell_type": "markdown",
   "metadata": {},
   "source": [
    "There are, however, requests dating back three years. Why is process taking so long? Lets take a look at the larger cases. The oldest one in the data from 30. May 2013 regarding 33 URL removal requests and the one from 10. June 2014 regarding 30 URL removal requests."
   ]
  },
  {
   "cell_type": "code",
   "execution_count": 31,
   "metadata": {
    "collapsed": false
   },
   "outputs": [
    {
     "name": "stdout",
     "output_type": "stream",
     "text": [
      "18ranime.net http://www.chillingeffects.org/notice.cgi?sID=976636 2013-05-30 05:16:05\n",
      "4shared.com http://www.chillingeffects.org/notice.cgi?sID=976636 2013-05-30 05:16:05\n",
      "5anime.com http://www.chillingeffects.org/notice.cgi?sID=976636 2013-05-30 05:16:05\n",
      "akiba-online.com http://www.chillingeffects.org/notice.cgi?sID=976636 2013-05-30 05:16:05\n",
      "animehentai.biz http://www.chillingeffects.org/notice.cgi?sID=976636 2013-05-30 05:16:05\n"
     ]
    }
   ],
   "source": [
    "cursor = conn.cursor()\n",
    "statement = \"SELECT domains.domain, requests.lumen_url, requests.date FROM domains JOIN requests ON requests.request_id = domains.requestid WHERE requests.date = '2013-05-30 05:16:05' LIMIT 5;\"\n",
    "cursor.execute(statement)\n",
    "for row in cursor:\n",
    "    print(row[0], row[1], row[2])"
   ]
  },
  {
   "cell_type": "markdown",
   "metadata": {},
   "source": [
    "According to the [Lumen copyright database](https://www.lumendatabase.org/notices/974877) the oldest removal request still pending is from May 2013 and regards a **Asian Manga porn game called Dragon Slave**.[This is link](http://www.dlsite.com/maniax/work/=/product_id/RJ102820.html/?unique_op=af) to the original content. The other links in the 10 oldest still pending removal requests are:\n",
    "* [More requests to remove Manga game porn](https://www.lumendatabase.org/notices/974877)\n",
    "* [Alleged German Neo-Nazi Eric Pettich,](https://www.lumendatabase.org/notices/1181432) who requested for links to pictures of himself on an Indymedia site to be removed.\n",
    "* [The british Musik label Black Music Records](http://www.chillingeffects.org/notice.cgi?sID=1766871) and the [US label Tiger records](https://www.lumendatabase.org/notices/1633142) who both requested links to songs from a whole row of sites to be removed, mainly file sharing sites. The linked material shows the files they wanted deleted."
   ]
  },
  {
   "cell_type": "markdown",
   "metadata": {},
   "source": [
    "**Summary**: It is difficult to see a pattern. The pending requests regard the whole spectrum of content: From Asian manga game porn to pictures of alleged neo-nazis. Most of the links regards links to music file. The question remains open. Why do these cases take so long for Google to check and verify?"
   ]
  },
  {
   "cell_type": "markdown",
   "metadata": {},
   "source": [
    "##3. Denied requests"
   ]
  },
  {
   "cell_type": "markdown",
   "metadata": {},
   "source": [
    "Let us look at examples of the 9 % of cases, in which Google chooses to break the links to content. Which organisations, who file the requests, are denied most frequently?"
   ]
  },
  {
   "cell_type": "code",
   "execution_count": 33,
   "metadata": {
    "collapsed": false
   },
   "outputs": [
    {
     "name": "stdout",
     "output_type": "stream",
     "text": [
      "None 10533\n",
      "Digimarc 7405\n",
      "Total Wipes Music Group 5534\n",
      "MUSO.com Anti-piracy 4314\n",
      "Boostdasound 3396\n",
      "APDIF - Mexico 2426\n",
      "楽天株式会社 1376\n",
      "AudioLock.NET 1325\n",
      "ANDROMEDICAL 1215\n",
      "APCM Mexico 1202\n"
     ]
    }
   ],
   "source": [
    "cursor = conn.cursor()\n",
    "statement = \"SELECT reporting_organization_name, COUNT(*) FROM requests WHERE urls_removed = 0 AND urls_for_which_we_took_no_action > 1 GROUP BY reporting_organization_name ORDER BY count DESC LIMIT 10;\"\n",
    "cursor.execute(statement)\n",
    "for row in cursor:\n",
    "    print(row[0], row[1])"
   ]
  },
  {
   "cell_type": "code",
   "execution_count": null,
   "metadata": {
    "collapsed": true
   },
   "outputs": [],
   "source": []
  },
  {
   "cell_type": "markdown",
   "metadata": {},
   "source": [
    "!!!!!!!!!CLEAN UP THE Company NAMES!!!!!!"
   ]
  },
  {
   "cell_type": "markdown",
   "metadata": {},
   "source": [
    "##Who are the companies and organisations filing these requests?"
   ]
  },
  {
   "cell_type": "code",
   "execution_count": null,
   "metadata": {
    "collapsed": true
   },
   "outputs": [],
   "source": [
    "cursor = conn.cursor()\n",
    "statement = \"SELECT copyright_owner_name, COUNT(*) FROM requests GROUP BY copyright_owner_name ORDER BY count DESC LIMIT 10;\"\n",
    "cursor.execute(statement)\n",
    "for row in cursor:\n",
    "    print(row[0])"
   ]
  },
  {
   "cell_type": "markdown",
   "metadata": {},
   "source": [
    "##Domain URLs with most removal requests"
   ]
  },
  {
   "cell_type": "code",
   "execution_count": 9,
   "metadata": {
    "collapsed": false
   },
   "outputs": [
    {
     "name": "stdout",
     "output_type": "stream",
     "text": [
      "uploaded.net 362544\n",
      "zippyshare.com 324107\n",
      "4shared.com 310615\n",
      "torrentz.eu 297658\n",
      "torrenthound.com 289923\n",
      "rapidgator.net 286986\n",
      "bitsnoop.com 234842\n",
      "filestube.com 225449\n",
      "torrentdownloads.me 214673\n",
      "thepiratebay.se 213869\n"
     ]
    }
   ],
   "source": [
    "cursor = conn.cursor()\n",
    "statement = \"SELECT domain, COUNT(*), COUNT(*) FROM domains GROUP BY domain ORDER BY count DESC LIMIT 10;\"\n",
    "cursor.execute(statement)\n",
    "for row in cursor:\n",
    "    print(row[0], row[1])"
   ]
  },
  {
   "cell_type": "markdown",
   "metadata": {},
   "source": [
    "##uploaded.net is a Swiss Domain\n",
    "The Domain [Uploaded.net](http://uploaded.net/) belongs to a the Swiss company [Cyando AG](http://cyando.ch/de). They are proad of the fact that they donate monthly amounts to charity. How does that fit in with the fact that they seem to be responsible for 362'544 copyright infringements? "
   ]
  },
  {
   "cell_type": "markdown",
   "metadata": {},
   "source": [
    "##Sample of the copyright infringements of Uploaded.net."
   ]
  },
  {
   "cell_type": "code",
   "execution_count": 10,
   "metadata": {
    "collapsed": false
   },
   "outputs": [
    {
     "name": "stdout",
     "output_type": "stream",
     "text": [
      "uploaded.net http://www.chillingeffects.org/notice.cgi?sID=1348067\n",
      "uploaded.net http://www.chillingeffects.org/notices/10521749\n",
      "uploaded.net http://www.chillingeffects.org/notice.cgi?sID=2116054\n",
      "uploaded.net http://www.chillingeffects.org/notice.cgi?sID=1612786\n",
      "uploaded.net http://lumendatabase.org/notices/11931017\n",
      "uploaded.net http://lumendatabase.org/notices/11677485\n",
      "uploaded.net http://lumendatabase.org/notices/11610286\n",
      "uploaded.net http://lumendatabase.org/notices/11842782\n",
      "uploaded.net http://www.chillingeffects.org/notice.cgi?sID=1707395\n",
      "uploaded.net http://www.chillingeffects.org/notices/11354978\n"
     ]
    }
   ],
   "source": [
    "cursor = conn.cursor()\n",
    "statement = \"SELECT domains.domain, requests.lumen_url FROM domains JOIN requests ON domains.requestid = requests.request_id WHERE domain = 'uploaded.net' LIMIT 10;\"\n",
    "cursor.execute(statement)\n",
    "for row in cursor:\n",
    "    print(row[0], row[1])"
   ]
  },
  {
   "cell_type": "markdown",
   "metadata": {},
   "source": [
    "##The 3 most recent removal requests concerning Uploaded.net"
   ]
  },
  {
   "cell_type": "code",
   "execution_count": 7,
   "metadata": {
    "collapsed": false
   },
   "outputs": [
    {
     "name": "stdout",
     "output_type": "stream",
     "text": [
      "uploaded.net 2016-05-31 08:39:23 https://lumendatabase.org/notices/12359154\n",
      "uploaded.net 2016-05-31 08:32:40 https://lumendatabase.org/notices/12359754\n",
      "uploaded.net 2016-05-31 08:30:07 https://lumendatabase.org/notices/12359056\n"
     ]
    }
   ],
   "source": [
    "cursor = conn.cursor()\n",
    "statement = \"SELECT domains.domain, requests.date, requests.lumen_url FROM domains JOIN requests ON domains.requestID = requests.request_ID WHERE domains.domain = 'uploaded.net' ORDER BY date DESC LIMIT 3;\"\n",
    "cursor.execute(statement)\n",
    "for row in cursor:\n",
    "    print(row[0], row[1], row[2])"
   ]
  },
  {
   "cell_type": "markdown",
   "metadata": {},
   "source": [
    "##The first 3 removal requests concerning Uploaded.net"
   ]
  },
  {
   "cell_type": "code",
   "execution_count": 8,
   "metadata": {
    "collapsed": false
   },
   "outputs": [
    {
     "name": "stdout",
     "output_type": "stream",
     "text": [
      "uploaded.net 2012-08-14 12:21:30 http://www.chillingeffects.org/notice.cgi?sID=509844\n",
      "uploaded.net 2012-08-14 14:05:55 http://www.chillingeffects.org/notice.cgi?sID=509927\n",
      "uploaded.net 2012-08-14 14:14:31 http://www.chillingeffects.org/notice.cgi?sID=509915\n"
     ]
    }
   ],
   "source": [
    "cursor = conn.cursor()\n",
    "statement = \"SELECT domains.domain, requests.date, requests.lumen_url FROM domains JOIN requests ON domains.requestID = requests.request_ID WHERE domains.domain = 'uploaded.net' ORDER BY date LIMIT 3;\"\n",
    "cursor.execute(statement)\n",
    "for row in cursor:\n",
    "    print(row[0], row[1], row[2])"
   ]
  },
  {
   "cell_type": "markdown",
   "metadata": {},
   "source": [
    "-> Check the no_action File, needs filterd on Request ID and URLs."
   ]
  },
  {
   "cell_type": "markdown",
   "metadata": {},
   "source": [
    "#Other Swiss sites in the data.\n"
   ]
  },
  {
   "cell_type": "code",
   "execution_count": 8,
   "metadata": {
    "collapsed": false
   },
   "outputs": [
    {
     "name": "stdout",
     "output_type": "stream",
     "text": [
      "20min.ch http://www.chillingeffects.org/notice.cgi?sID=706173\n",
      "20min.ch http://www.chillingeffects.org/notice.cgi?sID=1433303\n",
      "20min.ch http://www.chillingeffects.org/notice.cgi?sID=1421135\n",
      "20min.ch http://www.chillingeffects.org/notice.cgi?sID=1419080\n",
      "20min.ch http://www.chillingeffects.org/notices/11022862\n",
      "20min.ch http://lumendatabase.org/notices/12086522\n"
     ]
    }
   ],
   "source": [
    "cursor = conn.cursor()\n",
    "statement = \"SELECT domains.domain, requests.lumen_url FROM domains JOIN requests ON domains.requestid = requests.request_id WHERE domain = '20min.ch';\"\n",
    "cursor.execute(statement)\n",
    "for row in cursor:\n",
    "    print(row[0], row[1])\n",
    "\n"
   ]
  },
  {
   "cell_type": "code",
   "execution_count": null,
   "metadata": {
    "collapsed": true
   },
   "outputs": [],
   "source": []
  },
  {
   "cell_type": "code",
   "execution_count": null,
   "metadata": {
    "collapsed": true
   },
   "outputs": [],
   "source": []
  }
 ],
 "metadata": {
  "kernelspec": {
   "display_name": "Python 3",
   "language": "python",
   "name": "python3"
  },
  "language_info": {
   "codemirror_mode": {
    "name": "ipython",
    "version": 3
   },
   "file_extension": ".py",
   "mimetype": "text/x-python",
   "name": "python",
   "nbconvert_exporter": "python",
   "pygments_lexer": "ipython3",
   "version": "3.5.1"
  }
 },
 "nbformat": 4,
 "nbformat_minor": 0
}
